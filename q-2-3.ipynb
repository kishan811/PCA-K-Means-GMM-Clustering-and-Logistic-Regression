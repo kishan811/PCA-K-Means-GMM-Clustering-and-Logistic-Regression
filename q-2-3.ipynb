{
 "cells": [
  {
   "cell_type": "markdown",
   "metadata": {},
   "source": [
    "## Part 3: Plotting Threshold v/s Recall / Precision"
   ]
  },
  {
   "cell_type": "code",
   "execution_count": 48,
   "metadata": {},
   "outputs": [],
   "source": [
    "import numpy as np  \n",
    "import matplotlib.pyplot as plt  \n",
    "import pandas as pd\n",
    "import csv\n",
    "import random\n",
    "import math\n",
    "import operator\n",
    "from numpy import linalg as LA\n",
    "import sys\n",
    "from sklearn.metrics import classification_report,confusion_matrix,accuracy_score,recall_score,precision_score\n",
    "from sklearn import linear_model"
   ]
  },
  {
   "cell_type": "code",
   "execution_count": 49,
   "metadata": {},
   "outputs": [],
   "source": [
    "df = pd.read_csv('AdmissionDataset/data.csv') "
   ]
  },
  {
   "cell_type": "code",
   "execution_count": 50,
   "metadata": {},
   "outputs": [
    {
     "data": {
      "text/html": [
       "<div>\n",
       "<style scoped>\n",
       "    .dataframe tbody tr th:only-of-type {\n",
       "        vertical-align: middle;\n",
       "    }\n",
       "\n",
       "    .dataframe tbody tr th {\n",
       "        vertical-align: top;\n",
       "    }\n",
       "\n",
       "    .dataframe thead th {\n",
       "        text-align: right;\n",
       "    }\n",
       "</style>\n",
       "<table border=\"1\" class=\"dataframe\">\n",
       "  <thead>\n",
       "    <tr style=\"text-align: right;\">\n",
       "      <th></th>\n",
       "      <th>Serial No.</th>\n",
       "      <th>GRE Score</th>\n",
       "      <th>TOEFL Score</th>\n",
       "      <th>University Rating</th>\n",
       "      <th>SOP</th>\n",
       "      <th>LOR</th>\n",
       "      <th>CGPA</th>\n",
       "      <th>Research</th>\n",
       "      <th>Chance of Admit</th>\n",
       "    </tr>\n",
       "  </thead>\n",
       "  <tbody>\n",
       "    <tr>\n",
       "      <th>0</th>\n",
       "      <td>242</td>\n",
       "      <td>317</td>\n",
       "      <td>103</td>\n",
       "      <td>2</td>\n",
       "      <td>2.5</td>\n",
       "      <td>2.0</td>\n",
       "      <td>8.15</td>\n",
       "      <td>0</td>\n",
       "      <td>0.65</td>\n",
       "    </tr>\n",
       "    <tr>\n",
       "      <th>1</th>\n",
       "      <td>334</td>\n",
       "      <td>319</td>\n",
       "      <td>108</td>\n",
       "      <td>3</td>\n",
       "      <td>3.0</td>\n",
       "      <td>3.5</td>\n",
       "      <td>8.54</td>\n",
       "      <td>1</td>\n",
       "      <td>0.71</td>\n",
       "    </tr>\n",
       "    <tr>\n",
       "      <th>2</th>\n",
       "      <td>4</td>\n",
       "      <td>322</td>\n",
       "      <td>110</td>\n",
       "      <td>3</td>\n",
       "      <td>3.5</td>\n",
       "      <td>2.5</td>\n",
       "      <td>8.67</td>\n",
       "      <td>1</td>\n",
       "      <td>0.80</td>\n",
       "    </tr>\n",
       "    <tr>\n",
       "      <th>3</th>\n",
       "      <td>45</td>\n",
       "      <td>326</td>\n",
       "      <td>113</td>\n",
       "      <td>5</td>\n",
       "      <td>4.5</td>\n",
       "      <td>4.0</td>\n",
       "      <td>9.40</td>\n",
       "      <td>1</td>\n",
       "      <td>0.91</td>\n",
       "    </tr>\n",
       "    <tr>\n",
       "      <th>4</th>\n",
       "      <td>232</td>\n",
       "      <td>319</td>\n",
       "      <td>106</td>\n",
       "      <td>3</td>\n",
       "      <td>3.5</td>\n",
       "      <td>2.5</td>\n",
       "      <td>8.33</td>\n",
       "      <td>1</td>\n",
       "      <td>0.74</td>\n",
       "    </tr>\n",
       "  </tbody>\n",
       "</table>\n",
       "</div>"
      ],
      "text/plain": [
       "   Serial No.  GRE Score  TOEFL Score  University Rating  SOP  LOR   CGPA  \\\n",
       "0         242        317          103                  2  2.5   2.0  8.15   \n",
       "1         334        319          108                  3  3.0   3.5  8.54   \n",
       "2           4        322          110                  3  3.5   2.5  8.67   \n",
       "3          45        326          113                  5  4.5   4.0  9.40   \n",
       "4         232        319          106                  3  3.5   2.5  8.33   \n",
       "\n",
       "   Research  Chance of Admit   \n",
       "0         0              0.65  \n",
       "1         1              0.71  \n",
       "2         1              0.80  \n",
       "3         1              0.91  \n",
       "4         1              0.74  "
      ]
     },
     "execution_count": 50,
     "metadata": {},
     "output_type": "execute_result"
    }
   ],
   "source": [
    "df.head()"
   ]
  },
  {
   "cell_type": "code",
   "execution_count": null,
   "metadata": {},
   "outputs": [],
   "source": []
  },
  {
   "cell_type": "code",
   "execution_count": 51,
   "metadata": {},
   "outputs": [],
   "source": [
    "from sklearn.model_selection import train_test_split  \n",
    "# X_train, X_test, y_train, y_test = train_test_split(X, y, test_size=0.2) \n",
    "train,test = train_test_split(df, test_size=0.2)\n",
    "train_y = train['Chance of Admit ']\n",
    "train = train.drop('Serial No.',axis=1)\n",
    "train = train.drop('Chance of Admit ',axis=1)\n",
    "test_y = test['Chance of Admit ']\n",
    "test = test.drop('Serial No.',axis=1)\n",
    "test = test.drop('Chance of Admit ',axis=1)\n",
    "# train_y=np.where(train_y>=0.5,1,0)\n",
    "# test_y=np.where(test_y>=0.5,1,0)\n",
    "# train_y.values"
   ]
  },
  {
   "cell_type": "code",
   "execution_count": 52,
   "metadata": {},
   "outputs": [
    {
     "data": {
      "text/plain": [
       "(360, 8)"
      ]
     },
     "execution_count": 52,
     "metadata": {},
     "output_type": "execute_result"
    }
   ],
   "source": [
    "X=train.values\n",
    "X1=test.values\n",
    "# print(X)\n",
    "z1= np.ones((len(test),1))\n",
    "X1= np.append(z1,X1, axis=1)\n",
    "z = np.ones((len(train),1))\n",
    "X=np.append(z,X, axis=1)\n",
    "Y=train_y\n",
    "X.shape"
   ]
  },
  {
   "cell_type": "code",
   "execution_count": 53,
   "metadata": {},
   "outputs": [],
   "source": [
    "def sigmoid(z):\n",
    "    return 1 / (1 + np.exp(-z))\n",
    "# print(beta)\n",
    "\n",
    "def loss(h, y):\n",
    "    return (-y * np.log(h) - (1 - y) * np.log(1 - h)).mean()"
   ]
  },
  {
   "cell_type": "code",
   "execution_count": null,
   "metadata": {},
   "outputs": [],
   "source": []
  },
  {
   "cell_type": "code",
   "execution_count": 54,
   "metadata": {},
   "outputs": [],
   "source": [
    "# beta, num_iter = grad_desc(X, y, beta)\n"
   ]
  },
  {
   "cell_type": "code",
   "execution_count": 59,
   "metadata": {},
   "outputs": [
    {
     "name": "stdout",
     "output_type": "stream",
     "text": [
      "\n",
      "Recall:  0.9777777777777777\n",
      "\n",
      "Precision:  1.0\n",
      "\n",
      "Recall:  0.9222222222222223\n",
      "\n",
      "Precision:  1.0\n",
      "\n",
      "Recall:  0.8555555555555555\n",
      "\n",
      "Precision:  1.0\n",
      "\n",
      "Recall:  0.6707317073170732\n",
      "\n",
      "Precision:  1.0\n"
     ]
    },
    {
     "name": "stderr",
     "output_type": "stream",
     "text": [
      "/home/keshu/.local/lib/python3.6/site-packages/ipykernel_launcher.py:2: RuntimeWarning: overflow encountered in exp\n",
      "  \n"
     ]
    },
    {
     "name": "stdout",
     "output_type": "stream",
     "text": [
      "\n",
      "Recall:  1.0\n",
      "\n",
      "Precision:  0.16666666666666666\n"
     ]
    }
   ],
   "source": [
    "y=train_y\n",
    "# print(y)\n",
    "acc=[]\n",
    "r=[]\n",
    "p=[]\n",
    "for x in range(4,9):\n",
    "    accu=0\n",
    "    x=x*0.1\n",
    "    train_y1=np.where(train_y>=x,1,0)\n",
    "    y=train_y1\n",
    "    test_y1=np.where(test_y>=x,1,0)\n",
    "#     print(test_y)\n",
    "    beta = np.zeros(X.shape[1]) \n",
    "#     print((X.shape[1]))\n",
    "    lr=0.01\n",
    "    for i in range(30000):\n",
    "        z = np.dot(X, beta)\n",
    "    #     print(z.shape)\n",
    "        h = sigmoid(z)\n",
    "        gradient = np.dot(X.T, (h - y)) / y.size\n",
    "        beta -= lr * gradient\n",
    "#     beta\n",
    "    z = np.dot(X1, beta)\n",
    "    h = sigmoid(z)\n",
    "    ans=sigmoid(np.dot(X1, beta))\n",
    "    ans=np.where(ans>=x,1,0)\n",
    "    c=0\n",
    "    tp,fp,fn,tn=0,0,0,0\n",
    "    for i in range(len(X1)):\n",
    "        if (test_y1[i]==ans[i]):\n",
    "            c+=1\n",
    "        if test_y1[i]==1 and ans[i]==1:\n",
    "            tp+=1\n",
    "        if test_y1[i]==1 and ans[i]==0:\n",
    "            fp+=1\n",
    "        if test_y1[i]==0 and ans[i]==0:\n",
    "            tn+=1\n",
    "        if test_y1[i]==0 and ans[i]==1:\n",
    "            fn+=1\n",
    "\n",
    "    y = (tp+fp)\n",
    "    x = (tp+fn)\n",
    "    if x:\n",
    "        rc=tp/x\n",
    "    if y:\n",
    "        pc=tp/y\n",
    "    r.append(rc)\n",
    "    p.append(pc)\n",
    "    print(\"\\nRecall: \", rc)\n",
    "    print(\"\\nPrecision: \", pc)\n",
    "    accu=c/len(X1)\n",
    "    acc.append(accu)\n",
    "#     print(\"Accuracy using Logistic Regression: \",accu)\n",
    "# acc"
   ]
  },
  {
   "cell_type": "code",
   "execution_count": 69,
   "metadata": {},
   "outputs": [
    {
     "data": {
      "image/png": "[encoded data removed]",
      "text/plain": [
       "<Figure size 432x288 with 1 Axes>"
      ]
     },
     "metadata": {
      "needs_background": "light"
     },
     "output_type": "display_data"
    }
   ],
   "source": [
    "import matplotlib.pyplot as plt \n",
    "\n",
    "plt.plot([0.4,0.5,0.6,0.7,0.8], r, label = \"Recall\")\n",
    "plt.plot([0.4,0.5,0.6,0.7,0.8], p, label = \"Precision\")\n",
    "plt.xlabel('Threshold Value') \n",
    "plt.ylabel('Precision & Recall Value') \n",
    "plt.legend() \n",
    "plt.grid()\n",
    "plt.title('Threshold V/s Precision / Recall') \n",
    "plt.show()"
   ]
  },
  {
   "cell_type": "code",
   "execution_count": 70,
   "metadata": {},
   "outputs": [],
   "source": [
    "# reg = linear_model.LogisticRegression(solver='lbfgs') \n",
    "# # train the model using the training sets \n",
    "# reg.fit(train,train_y)\n",
    "# pred2=reg.predict(test)\n",
    "# print(\"Acc using SKlearn: \", accuracy_score(test_y,pred2))"
   ]
  },
  {
   "cell_type": "markdown",
   "metadata": {},
   "source": [
    "## <u>Threshold value in Logictic:-<u>\n",
    "\n",
    "### In order to map a logistic regression value to a binary category, you must define a classification threshold (also called the decision threshold value). A value above that threshold indicates \"One class\"; a value below indicates \"Other class.\" It is suggested to assume that the classification threshold should always be 0.5, but thresholds are problem-dependent, and are therefore values that you must tune.\n",
    "\n",
    "### We plotted the graph for precision and recall v/s threshold value starting from 0.1 to 1 as our label is dealing in probability of admission.\n",
    "### So, decided to take leaps of 0.1 and checked the Precision and Recall values.\n",
    "### Most accurate value for threshold seems to be \"0.5\" because our label is in probability and 1/2 probability  generally divides data in two separate halves quite accurately.\n",
    "### And we found from the graph that at 0.5 value, both are nearly 1 i.e. both are high. i.e. 0.5 is optimal choice."
   ]
  },
  {
   "cell_type": "markdown",
   "metadata": {},
   "source": [
    "### Also, there is a trade-off in Precision and Recall, and Generally High Precision and High Recall are desirable. But, both if one increases much, other starts decresing.\n"
   ]
  },
  {
   "cell_type": "markdown",
   "metadata": {},
   "source": [
    "### So threshold should be chosen such that both values are high."
   ]
  },
  {
   "cell_type": "code",
   "execution_count": null,
   "metadata": {},
   "outputs": [],
   "source": []
  }
 ],
 "metadata": {
  "kernelspec": {
   "display_name": "Python 3",
   "language": "python",
   "name": "python3"
  },
  "language_info": {
   "codemirror_mode": {
    "name": "ipython",
    "version": 3
   },
   "file_extension": ".py",
   "mimetype": "text/x-python",
   "name": "python",
   "nbconvert_exporter": "python",
   "pygments_lexer": "ipython3",
   "version": "3.6.7"
  }
 },
 "nbformat": 4,
 "nbformat_minor": 2
}
