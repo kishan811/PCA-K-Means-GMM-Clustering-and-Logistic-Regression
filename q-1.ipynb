{
 "cells": [
  {
   "cell_type": "markdown",
   "metadata": {},
   "source": [
    "## Part 1: Dimensionality Reduction using PCA:-"
   ]
  },
  {
   "cell_type": "code",
   "execution_count": 85,
   "metadata": {},
   "outputs": [],
   "source": [
    "import numpy as np  \n",
    "import matplotlib.pyplot as plt  \n",
    "import pandas as pd\n",
    "import csv\n",
    "import random\n",
    "import math\n",
    "import operator\n",
    "from numpy import linalg as LA\n",
    "import sys"
   ]
  },
  {
   "cell_type": "code",
   "execution_count": 86,
   "metadata": {},
   "outputs": [],
   "source": [
    "df = pd.read_csv('intrusion_detection/data1.csv') "
   ]
  },
  {
   "cell_type": "code",
   "execution_count": 87,
   "metadata": {},
   "outputs": [
    {
     "data": {
      "text/html": [
       "<div>\n",
       "<style scoped>\n",
       "    .dataframe tbody tr th:only-of-type {\n",
       "        vertical-align: middle;\n",
       "    }\n",
       "\n",
       "    .dataframe tbody tr th {\n",
       "        vertical-align: top;\n",
       "    }\n",
       "\n",
       "    .dataframe thead th {\n",
       "        text-align: right;\n",
       "    }\n",
       "</style>\n",
       "<table border=\"1\" class=\"dataframe\">\n",
       "  <thead>\n",
       "    <tr style=\"text-align: right;\">\n",
       "      <th></th>\n",
       "      <th>duration</th>\n",
       "      <th>service</th>\n",
       "      <th>src_bytes</th>\n",
       "      <th>dst_bytes</th>\n",
       "      <th>hot</th>\n",
       "      <th>num_failed_logins</th>\n",
       "      <th>num_compromised</th>\n",
       "      <th>num_root</th>\n",
       "      <th>num_file_creations</th>\n",
       "      <th>num_access_files</th>\n",
       "      <th>...</th>\n",
       "      <th>dst_host_srv_count</th>\n",
       "      <th>dst_host_same_srv_rate</th>\n",
       "      <th>dst_host_diff_srv_rate</th>\n",
       "      <th>dst_host_same_src_port_rate</th>\n",
       "      <th>dst_host_srv_diff_host_rate</th>\n",
       "      <th>dst_host_serror_rate</th>\n",
       "      <th>dst_host_srv_serror_rate</th>\n",
       "      <th>dst_host_rerror_rate</th>\n",
       "      <th>dst_host_srv_rerror_rate</th>\n",
       "      <th>xAttack</th>\n",
       "    </tr>\n",
       "  </thead>\n",
       "  <tbody>\n",
       "    <tr>\n",
       "      <th>0</th>\n",
       "      <td>0</td>\n",
       "      <td>25</td>\n",
       "      <td>193</td>\n",
       "      <td>441</td>\n",
       "      <td>0</td>\n",
       "      <td>0</td>\n",
       "      <td>0</td>\n",
       "      <td>0</td>\n",
       "      <td>0</td>\n",
       "      <td>0</td>\n",
       "      <td>...</td>\n",
       "      <td>255</td>\n",
       "      <td>1.00</td>\n",
       "      <td>0.00</td>\n",
       "      <td>0.07</td>\n",
       "      <td>0.04</td>\n",
       "      <td>0.00</td>\n",
       "      <td>0.04</td>\n",
       "      <td>0.0</td>\n",
       "      <td>0.0</td>\n",
       "      <td>normal</td>\n",
       "    </tr>\n",
       "    <tr>\n",
       "      <th>1</th>\n",
       "      <td>0</td>\n",
       "      <td>38</td>\n",
       "      <td>0</td>\n",
       "      <td>0</td>\n",
       "      <td>0</td>\n",
       "      <td>0</td>\n",
       "      <td>0</td>\n",
       "      <td>0</td>\n",
       "      <td>0</td>\n",
       "      <td>0</td>\n",
       "      <td>...</td>\n",
       "      <td>1</td>\n",
       "      <td>0.00</td>\n",
       "      <td>0.07</td>\n",
       "      <td>0.00</td>\n",
       "      <td>0.00</td>\n",
       "      <td>0.00</td>\n",
       "      <td>0.00</td>\n",
       "      <td>1.0</td>\n",
       "      <td>1.0</td>\n",
       "      <td>dos</td>\n",
       "    </tr>\n",
       "    <tr>\n",
       "      <th>2</th>\n",
       "      <td>0</td>\n",
       "      <td>25</td>\n",
       "      <td>167</td>\n",
       "      <td>9724</td>\n",
       "      <td>0</td>\n",
       "      <td>0</td>\n",
       "      <td>0</td>\n",
       "      <td>0</td>\n",
       "      <td>0</td>\n",
       "      <td>0</td>\n",
       "      <td>...</td>\n",
       "      <td>255</td>\n",
       "      <td>1.00</td>\n",
       "      <td>0.00</td>\n",
       "      <td>0.03</td>\n",
       "      <td>0.06</td>\n",
       "      <td>0.00</td>\n",
       "      <td>0.00</td>\n",
       "      <td>0.0</td>\n",
       "      <td>0.0</td>\n",
       "      <td>normal</td>\n",
       "    </tr>\n",
       "    <tr>\n",
       "      <th>3</th>\n",
       "      <td>0</td>\n",
       "      <td>20</td>\n",
       "      <td>1339</td>\n",
       "      <td>0</td>\n",
       "      <td>0</td>\n",
       "      <td>0</td>\n",
       "      <td>0</td>\n",
       "      <td>0</td>\n",
       "      <td>0</td>\n",
       "      <td>0</td>\n",
       "      <td>...</td>\n",
       "      <td>31</td>\n",
       "      <td>0.23</td>\n",
       "      <td>0.04</td>\n",
       "      <td>0.23</td>\n",
       "      <td>0.00</td>\n",
       "      <td>0.02</td>\n",
       "      <td>0.00</td>\n",
       "      <td>0.0</td>\n",
       "      <td>0.0</td>\n",
       "      <td>normal</td>\n",
       "    </tr>\n",
       "    <tr>\n",
       "      <th>4</th>\n",
       "      <td>0</td>\n",
       "      <td>37</td>\n",
       "      <td>0</td>\n",
       "      <td>0</td>\n",
       "      <td>0</td>\n",
       "      <td>0</td>\n",
       "      <td>0</td>\n",
       "      <td>0</td>\n",
       "      <td>0</td>\n",
       "      <td>0</td>\n",
       "      <td>...</td>\n",
       "      <td>25</td>\n",
       "      <td>0.10</td>\n",
       "      <td>0.05</td>\n",
       "      <td>0.00</td>\n",
       "      <td>0.00</td>\n",
       "      <td>1.00</td>\n",
       "      <td>1.00</td>\n",
       "      <td>0.0</td>\n",
       "      <td>0.0</td>\n",
       "      <td>dos</td>\n",
       "    </tr>\n",
       "  </tbody>\n",
       "</table>\n",
       "<p>5 rows × 30 columns</p>\n",
       "</div>"
      ],
      "text/plain": [
       "   duration  service  src_bytes  dst_bytes  hot  num_failed_logins  \\\n",
       "0         0       25        193        441    0                  0   \n",
       "1         0       38          0          0    0                  0   \n",
       "2         0       25        167       9724    0                  0   \n",
       "3         0       20       1339          0    0                  0   \n",
       "4         0       37          0          0    0                  0   \n",
       "\n",
       "   num_compromised  num_root  num_file_creations  num_access_files   ...     \\\n",
       "0                0         0                   0                 0   ...      \n",
       "1                0         0                   0                 0   ...      \n",
       "2                0         0                   0                 0   ...      \n",
       "3                0         0                   0                 0   ...      \n",
       "4                0         0                   0                 0   ...      \n",
       "\n",
       "   dst_host_srv_count  dst_host_same_srv_rate  dst_host_diff_srv_rate  \\\n",
       "0                 255                    1.00                    0.00   \n",
       "1                   1                    0.00                    0.07   \n",
       "2                 255                    1.00                    0.00   \n",
       "3                  31                    0.23                    0.04   \n",
       "4                  25                    0.10                    0.05   \n",
       "\n",
       "   dst_host_same_src_port_rate  dst_host_srv_diff_host_rate  \\\n",
       "0                         0.07                         0.04   \n",
       "1                         0.00                         0.00   \n",
       "2                         0.03                         0.06   \n",
       "3                         0.23                         0.00   \n",
       "4                         0.00                         0.00   \n",
       "\n",
       "   dst_host_serror_rate  dst_host_srv_serror_rate  dst_host_rerror_rate  \\\n",
       "0                  0.00                      0.04                   0.0   \n",
       "1                  0.00                      0.00                   1.0   \n",
       "2                  0.00                      0.00                   0.0   \n",
       "3                  0.02                      0.00                   0.0   \n",
       "4                  1.00                      1.00                   0.0   \n",
       "\n",
       "   dst_host_srv_rerror_rate  xAttack  \n",
       "0                       0.0   normal  \n",
       "1                       1.0      dos  \n",
       "2                       0.0   normal  \n",
       "3                       0.0   normal  \n",
       "4                       0.0      dos  \n",
       "\n",
       "[5 rows x 30 columns]"
      ]
     },
     "execution_count": 87,
     "metadata": {},
     "output_type": "execute_result"
    }
   ],
   "source": [
    "df.head()\n",
    "# df.shape"
   ]
  },
  {
   "cell_type": "code",
   "execution_count": 88,
   "metadata": {},
   "outputs": [],
   "source": [
    "temp=df['xAttack']\n",
    "df1=df.drop(['xAttack'],axis=1)"
   ]
  },
  {
   "cell_type": "code",
   "execution_count": 89,
   "metadata": {},
   "outputs": [],
   "source": [
    "# df1"
   ]
  },
  {
   "cell_type": "code",
   "execution_count": 90,
   "metadata": {},
   "outputs": [],
   "source": [
    "M=np.mean(df1)\n",
    "SD=np.std(df1)"
   ]
  },
  {
   "cell_type": "code",
   "execution_count": 91,
   "metadata": {},
   "outputs": [],
   "source": [
    "# M"
   ]
  },
  {
   "cell_type": "code",
   "execution_count": 92,
   "metadata": {},
   "outputs": [],
   "source": [
    "C=(df1-M)/SD"
   ]
  },
  {
   "cell_type": "code",
   "execution_count": 93,
   "metadata": {},
   "outputs": [],
   "source": [
    "# C"
   ]
  },
  {
   "cell_type": "code",
   "execution_count": 94,
   "metadata": {},
   "outputs": [],
   "source": [
    "Cov=np.cov(C.T)"
   ]
  },
  {
   "cell_type": "code",
   "execution_count": 95,
   "metadata": {},
   "outputs": [],
   "source": [
    "# Cov"
   ]
  },
  {
   "cell_type": "code",
   "execution_count": 96,
   "metadata": {},
   "outputs": [],
   "source": [
    "values, vectors = LA.eig(Cov)"
   ]
  },
  {
   "cell_type": "code",
   "execution_count": 97,
   "metadata": {},
   "outputs": [],
   "source": [
    "# vectors"
   ]
  },
  {
   "cell_type": "code",
   "execution_count": 98,
   "metadata": {},
   "outputs": [
    {
     "data": {
      "text/plain": [
       "array([6.73792010e+00, 4.86394323e+00, 2.61304344e+00, 1.88825019e+00,\n",
       "       1.47239103e+00, 1.34445489e+00, 1.13686784e+00, 1.05599217e+00,\n",
       "       9.19031673e-01, 9.62884727e-01, 9.97747022e-01, 1.00605989e+00,\n",
       "       7.16997425e-01, 6.55723024e-01, 4.96856883e-01, 4.47530656e-01,\n",
       "       4.12119820e-01, 4.02113812e-01, 3.45219725e-01, 2.10204295e-01,\n",
       "       9.70901692e-02, 6.64827642e-02, 5.21876041e-02, 3.96458945e-02,\n",
       "       2.89025639e-02, 1.63697530e-02, 1.00407728e-03, 9.49076867e-03,\n",
       "       4.63468452e-03])"
      ]
     },
     "execution_count": 98,
     "metadata": {},
     "output_type": "execute_result"
    }
   ],
   "source": [
    "dc = {}\n",
    "for i in range(len(values)):\n",
    "    dc[values[i]] = vectors[i]\n",
    "# dc\n",
    "values"
   ]
  },
  {
   "cell_type": "code",
   "execution_count": 200,
   "metadata": {},
   "outputs": [],
   "source": [
    "values_sort=sorted(values,reverse=True)\n",
    "\n",
    "# values_sort"
   ]
  },
  {
   "cell_type": "code",
   "execution_count": 217,
   "metadata": {},
   "outputs": [
    {
     "data": {
      "text/plain": [
       "29.001160139219163"
      ]
     },
     "execution_count": 217,
     "metadata": {},
     "output_type": "execute_result"
    }
   ],
   "source": [
    "su=0\n",
    "i=0\n",
    "abc=[]\n",
    "# print(values_sort)\n",
    "for i in range(len(values_sort)):\n",
    "    su+=values_sort[i]\n",
    "    abc.append(su)\n",
    "su"
   ]
  },
  {
   "cell_type": "code",
   "execution_count": null,
   "metadata": {},
   "outputs": [],
   "source": []
  },
  {
   "cell_type": "code",
   "execution_count": 224,
   "metadata": {},
   "outputs": [
    {
     "name": "stdout",
     "output_type": "stream",
     "text": [
      "Accuracy: 0.9093190252148047\n",
      "Reduced Dimensions: 14\n",
      "(24998, 29) (29, 14) (24998, 14)\n"
     ]
    }
   ],
   "source": [
    "tol=0\n",
    "j=0\n",
    "# print(j)\n",
    "k_list=[]\n",
    "tole=[]\n",
    "for j in range(len(values_sort)):\n",
    "    tol+=(values_sort[j]/su)\n",
    "    tole.append(tol)\n",
    "    k_list.append(values_sort[j])\n",
    "    if tol>= .9:\n",
    "        break\n",
    "\n",
    "print('Accuracy:',tol)\n",
    "print('Reduced Dimensions:',len(k_list))\n",
    "# print(k_list)\n",
    "\n",
    "li=[]\n",
    "for i in range(len(k_list)):\n",
    "    li.append(dc[k_list[i]])\n",
    "\n",
    "\n",
    "li = np.asarray(li)\n",
    "li = li.T\n",
    "\n",
    "ans = np.dot(C, li)\n",
    "\n",
    "print(df1.shape, li.shape, ans.shape)"
   ]
  },
  {
   "cell_type": "code",
   "execution_count": 231,
   "metadata": {},
   "outputs": [
    {
     "data": {
      "image/png": "[encoded data removed]",
      "text/plain": [
       "<Figure size 432x288 with 1 Axes>"
      ]
     },
     "metadata": {
      "needs_background": "light"
     },
     "output_type": "display_data"
    }
   ],
   "source": [
    "import matplotlib.pyplot as plt \n",
    "\n",
    "plt.plot([x for x in range(1,len(tole)+1)], tole)  \n",
    "\n",
    "plt.xlabel('Number of Features') \n",
    "plt.ylabel('Tolerance') \n",
    "# plt.legend() \n",
    "plt.grid()\n",
    "plt.title('Tolerance V/s Number of Features!') \n",
    "plt.show()"
   ]
  },
  {
   "cell_type": "markdown",
   "metadata": {},
   "source": [
    "#### Final Data after reducing dimensions:"
   ]
  },
  {
   "cell_type": "code",
   "execution_count": 269,
   "metadata": {},
   "outputs": [
    {
     "data": {
      "text/plain": [
       "(24998, 14)"
      ]
     },
     "execution_count": 269,
     "metadata": {},
     "output_type": "execute_result"
    }
   ],
   "source": [
    "ans.shape"
   ]
  },
  {
   "cell_type": "markdown",
   "metadata": {},
   "source": [
    "## Part 2: K-Means Clustering:-"
   ]
  },
  {
   "cell_type": "code",
   "execution_count": 277,
   "metadata": {},
   "outputs": [],
   "source": [
    "k=5\n",
    "n = ans.shape[0]\n",
    "c = ans.shape[1]\n",
    "mean = np.mean(ans, axis = 0)\n",
    "std = np.std(ans, axis = 0)\n",
    "centers = np.random.randn(k,c)*std + mean\n",
    "# plt.scatter(centers[:,0], centers[:,1], marker='*', c='r', s=150)"
   ]
  },
  {
   "cell_type": "code",
   "execution_count": 278,
   "metadata": {},
   "outputs": [
    {
     "name": "stdout",
     "output_type": "stream",
     "text": [
      "[1 1 1 ... 0 3 4]\n"
     ]
    }
   ],
   "source": [
    "from copy import deepcopy\n",
    "co = np.zeros(centers.shape)\n",
    "cn = deepcopy(centers) \n",
    "# ans.shape\n",
    "clusters = np.zeros(n)\n",
    "distances = np.zeros((n,k))\n",
    "marg = LA.norm(cn - co)\n",
    "while marg != 0:\n",
    "    for i in range(k):\n",
    "        distances[:,i] = LA.norm(ans - cn[i], axis=1)\n",
    "    clusters = np.argmin(distances, axis = 1)\n",
    "    co = deepcopy(cn)\n",
    "    for i in range(k):\n",
    "        cn[i] = np.mean(ans[clusters == i], axis=0)\n",
    "    marg = LA.norm(cn - co)\n",
    "# centers_new   \n",
    "# plt.scatter(cn[:,0], cn[:,1], marker='*', c='r', s=150)\n",
    "print(clusters)"
   ]
  },
  {
   "cell_type": "code",
   "execution_count": 300,
   "metadata": {},
   "outputs": [
    {
     "data": {
      "text/plain": [
       "array([0, 1, 2, 3, 4])"
      ]
     },
     "execution_count": 300,
     "metadata": {},
     "output_type": "execute_result"
    }
   ],
   "source": [
    "np.unique(clusters)"
   ]
  },
  {
   "cell_type": "code",
   "execution_count": 301,
   "metadata": {},
   "outputs": [
    {
     "data": {
      "text/plain": [
       "array(['dos', 'normal', 'probe', 'r2l', 'u2r'], dtype=object)"
      ]
     },
     "execution_count": 301,
     "metadata": {},
     "output_type": "execute_result"
    }
   ],
   "source": [
    "np.unique(temp)"
   ]
  },
  {
   "cell_type": "code",
   "execution_count": 259,
   "metadata": {},
   "outputs": [
    {
     "data": {
      "text/plain": [
       "24998"
      ]
     },
     "execution_count": 259,
     "metadata": {},
     "output_type": "execute_result"
    }
   ],
   "source": [
    "kmlist=[]\n",
    "for i in range(len(temp)):\n",
    "    if temp[i]=='dos':\n",
    "        kmlist.append(0)\n",
    "    if temp[i]=='normal':\n",
    "        kmlist.append(1)\n",
    "    if temp[i]=='probe':\n",
    "        kmlist.append(2)\n",
    "    if temp[i]=='r2l':\n",
    "        kmlist.append(3)\n",
    "    if temp[i]=='u2r':\n",
    "        kmlist.append(4)\n",
    "len(kmlist)"
   ]
  },
  {
   "cell_type": "code",
   "execution_count": 297,
   "metadata": {},
   "outputs": [
    {
     "name": "stdout",
     "output_type": "stream",
     "text": [
      "Purity of Cluster - 0 :  78.57142857142857\n",
      "Purity of Cluster - 1 :  77.64939519768912\n",
      "Purity of Cluster - 2 :  94.8051948051948\n",
      "Purity of Cluster - 3 :  73.70721048798252\n",
      "Purity of Cluster - 4 :  98.20731531010554\n"
     ]
    }
   ],
   "source": [
    "from sklearn.metrics.cluster import contingency_matrix\n",
    "res=contingency_matrix(clusters,kmlist)\n",
    "# print(res)\n",
    "for i,item in enumerate(res):\n",
    "    print(\"Purity of Cluster -\",i,\": \",max(item)*100/sum(item))"
   ]
  },
  {
   "cell_type": "code",
   "execution_count": 281,
   "metadata": {},
   "outputs": [
    {
     "name": "stdout",
     "output_type": "stream",
     "text": [
      "K-means Purity: 0.8317465397231778\n"
     ]
    }
   ],
   "source": [
    "pure=0\n",
    "for i in res:\n",
    "    pure+=max(i)\n",
    "#     print(max(i))\n",
    "A1=pure/len(temp)\n",
    "print('K-means Purity:', A1)"
   ]
  },
  {
   "cell_type": "markdown",
   "metadata": {},
   "source": [
    "## Part 3: Gaussian Mixture Model (GMM) :-"
   ]
  },
  {
   "cell_type": "code",
   "execution_count": 245,
   "metadata": {},
   "outputs": [
    {
     "data": {
      "text/plain": [
       "array([0, 1, 2, 3, 4])"
      ]
     },
     "execution_count": 245,
     "metadata": {},
     "output_type": "execute_result"
    }
   ],
   "source": [
    "from sklearn.mixture import GaussianMixture\n",
    "GMM=GaussianMixture(n_components=5).fit(ans)\n",
    "gmmlabel=GMM.predict(ans)\n",
    "np.unique(gmmlabel)"
   ]
  },
  {
   "cell_type": "code",
   "execution_count": 292,
   "metadata": {},
   "outputs": [
    {
     "name": "stdout",
     "output_type": "stream",
     "text": [
      "Purity of Cluster - 0 :  45.353159851301115\n",
      "Purity of Cluster - 1 :  99.75743855109961\n",
      "Purity of Cluster - 2 :  92.4021040327294\n",
      "Purity of Cluster - 3 :  100.0\n",
      "Purity of Cluster - 4 :  45.134276638752524\n"
     ]
    }
   ],
   "source": [
    "res1=contingency_matrix(gmmlabel,kmlist)\n",
    "# print(res1)\n",
    "for i,item in enumerate(res1):\n",
    "    print(\"Purity of Cluster -\",i,\": \",max(item)*100/sum(item))"
   ]
  },
  {
   "cell_type": "code",
   "execution_count": 283,
   "metadata": {},
   "outputs": [
    {
     "name": "stdout",
     "output_type": "stream",
     "text": [
      "GMM Purity: 0.7809024721977759\n"
     ]
    }
   ],
   "source": [
    "pure1=0\n",
    "for i in res1:\n",
    "    pure1+=max(i)\n",
    "#     print(max(i))\n",
    "A2=pure1/len(temp)\n",
    "print('GMM Purity:', A2)"
   ]
  },
  {
   "cell_type": "markdown",
   "metadata": {},
   "source": [
    "## Part 4: Hierarchical Clustering :-"
   ]
  },
  {
   "cell_type": "code",
   "execution_count": 178,
   "metadata": {},
   "outputs": [
    {
     "data": {
      "text/plain": [
       "array([0, 1, 2, 3, 4])"
      ]
     },
     "execution_count": 178,
     "metadata": {},
     "output_type": "execute_result"
    }
   ],
   "source": [
    "from sklearn.cluster import AgglomerativeClustering\n",
    "cc=AgglomerativeClustering(n_clusters=5,affinity='euclidean',linkage='single')\n",
    "aclabel=cc.fit_predict(ans)\n",
    "np.unique(aclabel)"
   ]
  },
  {
   "cell_type": "code",
   "execution_count": 298,
   "metadata": {},
   "outputs": [
    {
     "name": "stdout",
     "output_type": "stream",
     "text": [
      "Purity of Cluster - 0 :  100.0\n",
      "Purity of Cluster - 1 :  53.44751690743927\n",
      "Purity of Cluster - 2 :  100.0\n",
      "Purity of Cluster - 3 :  100.0\n",
      "Purity of Cluster - 4 :  100.0\n"
     ]
    }
   ],
   "source": [
    "res2=contingency_matrix(aclabel,kmlist)\n",
    "# print(res2)\n",
    "for i,item in enumerate(res2):\n",
    "    print(\"Purity of Cluster -\",i,\": \",max(item)*100/sum(item))"
   ]
  },
  {
   "cell_type": "code",
   "execution_count": 299,
   "metadata": {},
   "outputs": [
    {
     "name": "stdout",
     "output_type": "stream",
     "text": [
      "Hierarchical Purity: 0.5346427714217138\n"
     ]
    }
   ],
   "source": [
    "pure2=0\n",
    "for i in res2:\n",
    "    pure2+=max(i)\n",
    "#     print(max(i))\n",
    "A3=pure2/len(temp)\n",
    "print('Hierarchical Purity:', A3)"
   ]
  },
  {
   "cell_type": "markdown",
   "metadata": {},
   "source": [
    "### Pie Chart (K-means v/s GMM v/s Hierarchical) :-"
   ]
  },
  {
   "cell_type": "code",
   "execution_count": 295,
   "metadata": {},
   "outputs": [
    {
     "data": {
      "image/png": "[encoded data removed]",
      "text/plain": [
       "<Figure size 432x288 with 1 Axes>"
      ]
     },
     "metadata": {},
     "output_type": "display_data"
    }
   ],
   "source": [
    "import matplotlib.pyplot as plt\n",
    "slices_hours = [A1, A2, A3]\n",
    "activities = ['K-Means', 'GMM', 'Hierarchical']\n",
    "explode = (0.025, 0.025, 0.025)\n",
    "colors = ['orange', 'coral','green']\n",
    "fig1, ax1 = plt.subplots()\n",
    "ax1.pie(slices_hours, explode=explode,colors=colors, labels=activities, autopct='%1.1f%%',\n",
    "        shadow=True, startangle=120)\n",
    "ax1.axis('equal') \n",
    "plt.show()"
   ]
  },
  {
   "cell_type": "code",
   "execution_count": null,
   "metadata": {},
   "outputs": [],
   "source": []
  }
 ],
 "metadata": {
  "kernelspec": {
   "display_name": "Python 3",
   "language": "python",
   "name": "python3"
  },
  "language_info": {
   "codemirror_mode": {
    "name": "ipython",
    "version": 3
   },
   "file_extension": ".py",
   "mimetype": "text/x-python",
   "name": "python",
   "nbconvert_exporter": "python",
   "pygments_lexer": "ipython3",
   "version": "3.6.7"
  }
 },
 "nbformat": 4,
 "nbformat_minor": 2
}
