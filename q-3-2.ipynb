{
 "cells": [
  {
   "cell_type": "markdown",
   "metadata": {},
   "source": [
    "## One vs One Logistic"
   ]
  },
  {
   "cell_type": "code",
   "execution_count": 69,
   "metadata": {},
   "outputs": [
    {
     "data": {
      "text/html": [
       "<div>\n",
       "<style scoped>\n",
       "    .dataframe tbody tr th:only-of-type {\n",
       "        vertical-align: middle;\n",
       "    }\n",
       "\n",
       "    .dataframe tbody tr th {\n",
       "        vertical-align: top;\n",
       "    }\n",
       "\n",
       "    .dataframe thead th {\n",
       "        text-align: right;\n",
       "    }\n",
       "</style>\n",
       "<table border=\"1\" class=\"dataframe\">\n",
       "  <thead>\n",
       "    <tr style=\"text-align: right;\">\n",
       "      <th></th>\n",
       "      <th>fixed acidity</th>\n",
       "      <th>volatile acidity</th>\n",
       "      <th>citric acid</th>\n",
       "      <th>residual sugar</th>\n",
       "      <th>chlorides</th>\n",
       "      <th>free sulfur dioxide</th>\n",
       "      <th>total sulfur dioxide</th>\n",
       "      <th>density</th>\n",
       "      <th>pH</th>\n",
       "      <th>sulphates</th>\n",
       "      <th>alcohol</th>\n",
       "      <th>quality</th>\n",
       "    </tr>\n",
       "  </thead>\n",
       "  <tbody>\n",
       "    <tr>\n",
       "      <th>0</th>\n",
       "      <td>9.2</td>\n",
       "      <td>0.25</td>\n",
       "      <td>0.34</td>\n",
       "      <td>1.20</td>\n",
       "      <td>0.026</td>\n",
       "      <td>31.0</td>\n",
       "      <td>93.0</td>\n",
       "      <td>0.99160</td>\n",
       "      <td>2.93</td>\n",
       "      <td>0.37</td>\n",
       "      <td>11.3</td>\n",
       "      <td>7</td>\n",
       "    </tr>\n",
       "    <tr>\n",
       "      <th>1</th>\n",
       "      <td>6.6</td>\n",
       "      <td>0.20</td>\n",
       "      <td>0.27</td>\n",
       "      <td>10.90</td>\n",
       "      <td>0.038</td>\n",
       "      <td>29.0</td>\n",
       "      <td>130.0</td>\n",
       "      <td>0.99496</td>\n",
       "      <td>3.11</td>\n",
       "      <td>0.44</td>\n",
       "      <td>10.5</td>\n",
       "      <td>7</td>\n",
       "    </tr>\n",
       "    <tr>\n",
       "      <th>2</th>\n",
       "      <td>5.7</td>\n",
       "      <td>0.22</td>\n",
       "      <td>0.22</td>\n",
       "      <td>16.65</td>\n",
       "      <td>0.044</td>\n",
       "      <td>39.0</td>\n",
       "      <td>110.0</td>\n",
       "      <td>0.99855</td>\n",
       "      <td>3.24</td>\n",
       "      <td>0.48</td>\n",
       "      <td>9.0</td>\n",
       "      <td>6</td>\n",
       "    </tr>\n",
       "    <tr>\n",
       "      <th>3</th>\n",
       "      <td>7.2</td>\n",
       "      <td>0.23</td>\n",
       "      <td>0.39</td>\n",
       "      <td>14.20</td>\n",
       "      <td>0.058</td>\n",
       "      <td>49.0</td>\n",
       "      <td>192.0</td>\n",
       "      <td>0.99790</td>\n",
       "      <td>2.98</td>\n",
       "      <td>0.48</td>\n",
       "      <td>9.0</td>\n",
       "      <td>7</td>\n",
       "    </tr>\n",
       "    <tr>\n",
       "      <th>4</th>\n",
       "      <td>7.6</td>\n",
       "      <td>0.35</td>\n",
       "      <td>0.47</td>\n",
       "      <td>13.30</td>\n",
       "      <td>0.037</td>\n",
       "      <td>42.0</td>\n",
       "      <td>116.0</td>\n",
       "      <td>0.99822</td>\n",
       "      <td>3.04</td>\n",
       "      <td>0.50</td>\n",
       "      <td>9.2</td>\n",
       "      <td>5</td>\n",
       "    </tr>\n",
       "  </tbody>\n",
       "</table>\n",
       "</div>"
      ],
      "text/plain": [
       "   fixed acidity  volatile acidity  citric acid  residual sugar  chlorides  \\\n",
       "0            9.2              0.25         0.34            1.20      0.026   \n",
       "1            6.6              0.20         0.27           10.90      0.038   \n",
       "2            5.7              0.22         0.22           16.65      0.044   \n",
       "3            7.2              0.23         0.39           14.20      0.058   \n",
       "4            7.6              0.35         0.47           13.30      0.037   \n",
       "\n",
       "   free sulfur dioxide  total sulfur dioxide  density    pH  sulphates  \\\n",
       "0                 31.0                  93.0  0.99160  2.93       0.37   \n",
       "1                 29.0                 130.0  0.99496  3.11       0.44   \n",
       "2                 39.0                 110.0  0.99855  3.24       0.48   \n",
       "3                 49.0                 192.0  0.99790  2.98       0.48   \n",
       "4                 42.0                 116.0  0.99822  3.04       0.50   \n",
       "\n",
       "   alcohol  quality  \n",
       "0     11.3        7  \n",
       "1     10.5        7  \n",
       "2      9.0        6  \n",
       "3      9.0        7  \n",
       "4      9.2        5  "
      ]
     },
     "execution_count": 69,
     "metadata": {},
     "output_type": "execute_result"
    }
   ],
   "source": [
    "import numpy as np\n",
    "import pandas as pd\n",
    "from sklearn.model_selection import train_test_split \n",
    "from sklearn.linear_model import LogisticRegression\n",
    "from sklearn.metrics import r2_score,confusion_matrix,classification_report,accuracy_score\n",
    "df=pd.read_csv(\"wine-quality/data.csv\",delimiter=';')\n",
    "lrr = 0.01\n",
    "itr = 1000\n",
    "th = 0.5\n",
    "df.head()"
   ]
  },
  {
   "cell_type": "code",
   "execution_count": 70,
   "metadata": {},
   "outputs": [
    {
     "name": "stdout",
     "output_type": "stream",
     "text": [
      "(4408, 12)\n"
     ]
    },
    {
     "data": {
      "text/plain": [
       "(4408, 11)"
      ]
     },
     "execution_count": 70,
     "metadata": {},
     "output_type": "execute_result"
    }
   ],
   "source": [
    "X = df.drop(['quality'],axis=1)\n",
    "Y = df['quality']\n",
    "print(df.shape)\n",
    "X.shape"
   ]
  },
  {
   "cell_type": "code",
   "execution_count": 71,
   "metadata": {},
   "outputs": [],
   "source": [
    "X_train, X_test, Y_train, Y_test = train_test_split(X,Y,test_size = 0.2)"
   ]
  },
  {
   "cell_type": "code",
   "execution_count": 72,
   "metadata": {},
   "outputs": [
    {
     "data": {
      "text/plain": [
       "(3526, 12)"
      ]
     },
     "execution_count": 72,
     "metadata": {},
     "output_type": "execute_result"
    }
   ],
   "source": [
    "ones = np.ones([X_train.shape[0],1])\n",
    "X_train = np.concatenate((ones,X_train),axis=1)\n",
    "X_train.shape"
   ]
  },
  {
   "cell_type": "code",
   "execution_count": 73,
   "metadata": {},
   "outputs": [
    {
     "data": {
      "text/plain": [
       "(15, 12)"
      ]
     },
     "execution_count": 73,
     "metadata": {},
     "output_type": "execute_result"
    }
   ],
   "source": [
    "theta = np.zeros([15,12])\n",
    "theta.shape"
   ]
  },
  {
   "cell_type": "code",
   "execution_count": 74,
   "metadata": {},
   "outputs": [],
   "source": [
    "def sigmoid(z):\n",
    "    return 1 / (1 + np.exp(-z))\n",
    "def grad_des(X_train,Y_train,thh,lrr,itr): \n",
    "    for i in range(itr):\n",
    "        h = sigmoid(np.dot(X_train,thh.T))\n",
    "        thh = thh - (lrr/len(X_train)) * np.sum(X_train * (h - Y_train), axis=0)  \n",
    "    return thh"
   ]
  },
  {
   "cell_type": "code",
   "execution_count": 75,
   "metadata": {},
   "outputs": [],
   "source": [
    "x=0\n",
    "for i in range(4,9):\n",
    "    for j in range(i+1,10):\n",
    "        thh = np.zeros([1,12])\n",
    "        temp1 = []\n",
    "        temp2 = []\n",
    "        W = np.array(Y_train)\n",
    "        for k in range(len(W)):\n",
    "            if W[k] == j or W[k]==i:\n",
    "                temp1.append(X_train[k])\n",
    "                if W[k] == i:\n",
    "                    temp2.append(1)\n",
    "                else:\n",
    "                    temp2.append(0)\n",
    "        \n",
    "        temp1 = np.array(temp1)\n",
    "        temp2 = np.array(temp2)\n",
    "        temp2 = temp2.reshape((len(temp2),1))\n",
    "        theta[x]=grad_des(temp1,temp2,thh,lrr,itr)\n",
    "        x = x + 1"
   ]
  },
  {
   "cell_type": "code",
   "execution_count": 76,
   "metadata": {},
   "outputs": [],
   "source": [
    "y_pred = []\n",
    "for index,rows in X_test.iterrows():\n",
    "    rows = list(rows)\n",
    "    counts = {}\n",
    "    label = 0\n",
    "    for i in range(4,10):\n",
    "        counts[i]=0\n",
    "    h = 0\n",
    "    c = 0\n",
    "    for a in range(4,9):\n",
    "        for b in range(a+1,10):\n",
    "            y = 0\n",
    "            for i in range(len(rows)):\n",
    "                y = y + rows[i]*theta[c][i+1]\n",
    "            y = y + theta[c][0]\n",
    "            y = sigmoid(y)\n",
    "            c = c + 1\n",
    "            if y >= th:\n",
    "                counts[a]=counts[a]+1\n",
    "            else:\n",
    "                counts[b]=counts[b]+1\n",
    "    for i in range(4,10):\n",
    "        if(counts[i]>=h):\n",
    "            h=counts[i]\n",
    "            label=i\n",
    "    y_pred.append(label)\n",
    "# y_pred\n",
    "# counts"
   ]
  },
  {
   "cell_type": "code",
   "execution_count": 78,
   "metadata": {},
   "outputs": [
    {
     "name": "stdout",
     "output_type": "stream",
     "text": [
      "[[  0   0   1   3   0   0   0]\n",
      " [  0   0   6  20   5   2   0]\n",
      " [  0   0  36 184  36   1   0]\n",
      " [  0   0  31 349  23   2   0]\n",
      " [  0   0   9 139   6   1   0]\n",
      " [  0   0   2  24   0   0   0]\n",
      " [  0   0   0   2   0   0   0]]\n",
      "Accuracy:  44.33106575963719\n"
     ]
    }
   ],
   "source": [
    "# print((y_pred == Y_test).mean()*100)\n",
    "print(confusion_matrix(Y_test,y_pred))\n",
    "# print(classification_report(Y_test,y_pred))\n",
    "print(\"Accuracy: \",accuracy_score(Y_test, y_pred)*100)"
   ]
  },
  {
   "cell_type": "code",
   "execution_count": null,
   "metadata": {},
   "outputs": [],
   "source": []
  }
 ],
 "metadata": {
  "kernelspec": {
   "display_name": "Python 3",
   "language": "python",
   "name": "python3"
  },
  "language_info": {
   "codemirror_mode": {
    "name": "ipython",
    "version": 3
   },
   "file_extension": ".py",
   "mimetype": "text/x-python",
   "name": "python",
   "nbconvert_exporter": "python",
   "pygments_lexer": "ipython3",
   "version": "3.6.7"
  }
 },
 "nbformat": 4,
 "nbformat_minor": 2
}
