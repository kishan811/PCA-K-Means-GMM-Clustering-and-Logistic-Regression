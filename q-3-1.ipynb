{
 "cells": [
  {
   "cell_type": "markdown",
   "metadata": {},
   "source": [
    "## One vs All Logistic"
   ]
  },
  {
   "cell_type": "code",
   "execution_count": 528,
   "metadata": {},
   "outputs": [],
   "source": [
    "import numpy as np\n",
    "import pandas as pd\n",
    "from sklearn.model_selection import train_test_split \n",
    "from sklearn.linear_model import LogisticRegression\n",
    "from sklearn.metrics import r2_score,confusion_matrix,classification_report,accuracy_score\n",
    "from sklearn.preprocessing import StandardScaler"
   ]
  },
  {
   "cell_type": "code",
   "execution_count": 529,
   "metadata": {},
   "outputs": [
    {
     "data": {
      "text/html": [
       "<div>\n",
       "<style scoped>\n",
       "    .dataframe tbody tr th:only-of-type {\n",
       "        vertical-align: middle;\n",
       "    }\n",
       "\n",
       "    .dataframe tbody tr th {\n",
       "        vertical-align: top;\n",
       "    }\n",
       "\n",
       "    .dataframe thead th {\n",
       "        text-align: right;\n",
       "    }\n",
       "</style>\n",
       "<table border=\"1\" class=\"dataframe\">\n",
       "  <thead>\n",
       "    <tr style=\"text-align: right;\">\n",
       "      <th></th>\n",
       "      <th>fixed acidity</th>\n",
       "      <th>volatile acidity</th>\n",
       "      <th>citric acid</th>\n",
       "      <th>residual sugar</th>\n",
       "      <th>chlorides</th>\n",
       "      <th>free sulfur dioxide</th>\n",
       "      <th>total sulfur dioxide</th>\n",
       "      <th>density</th>\n",
       "      <th>pH</th>\n",
       "      <th>sulphates</th>\n",
       "      <th>alcohol</th>\n",
       "      <th>quality</th>\n",
       "    </tr>\n",
       "  </thead>\n",
       "  <tbody>\n",
       "    <tr>\n",
       "      <th>0</th>\n",
       "      <td>9.2</td>\n",
       "      <td>0.25</td>\n",
       "      <td>0.34</td>\n",
       "      <td>1.20</td>\n",
       "      <td>0.026</td>\n",
       "      <td>31.0</td>\n",
       "      <td>93.0</td>\n",
       "      <td>0.99160</td>\n",
       "      <td>2.93</td>\n",
       "      <td>0.37</td>\n",
       "      <td>11.3</td>\n",
       "      <td>7</td>\n",
       "    </tr>\n",
       "    <tr>\n",
       "      <th>1</th>\n",
       "      <td>6.6</td>\n",
       "      <td>0.20</td>\n",
       "      <td>0.27</td>\n",
       "      <td>10.90</td>\n",
       "      <td>0.038</td>\n",
       "      <td>29.0</td>\n",
       "      <td>130.0</td>\n",
       "      <td>0.99496</td>\n",
       "      <td>3.11</td>\n",
       "      <td>0.44</td>\n",
       "      <td>10.5</td>\n",
       "      <td>7</td>\n",
       "    </tr>\n",
       "    <tr>\n",
       "      <th>2</th>\n",
       "      <td>5.7</td>\n",
       "      <td>0.22</td>\n",
       "      <td>0.22</td>\n",
       "      <td>16.65</td>\n",
       "      <td>0.044</td>\n",
       "      <td>39.0</td>\n",
       "      <td>110.0</td>\n",
       "      <td>0.99855</td>\n",
       "      <td>3.24</td>\n",
       "      <td>0.48</td>\n",
       "      <td>9.0</td>\n",
       "      <td>6</td>\n",
       "    </tr>\n",
       "    <tr>\n",
       "      <th>3</th>\n",
       "      <td>7.2</td>\n",
       "      <td>0.23</td>\n",
       "      <td>0.39</td>\n",
       "      <td>14.20</td>\n",
       "      <td>0.058</td>\n",
       "      <td>49.0</td>\n",
       "      <td>192.0</td>\n",
       "      <td>0.99790</td>\n",
       "      <td>2.98</td>\n",
       "      <td>0.48</td>\n",
       "      <td>9.0</td>\n",
       "      <td>7</td>\n",
       "    </tr>\n",
       "    <tr>\n",
       "      <th>4</th>\n",
       "      <td>7.6</td>\n",
       "      <td>0.35</td>\n",
       "      <td>0.47</td>\n",
       "      <td>13.30</td>\n",
       "      <td>0.037</td>\n",
       "      <td>42.0</td>\n",
       "      <td>116.0</td>\n",
       "      <td>0.99822</td>\n",
       "      <td>3.04</td>\n",
       "      <td>0.50</td>\n",
       "      <td>9.2</td>\n",
       "      <td>5</td>\n",
       "    </tr>\n",
       "  </tbody>\n",
       "</table>\n",
       "</div>"
      ],
      "text/plain": [
       "   fixed acidity  volatile acidity  citric acid  residual sugar  chlorides  \\\n",
       "0            9.2              0.25         0.34            1.20      0.026   \n",
       "1            6.6              0.20         0.27           10.90      0.038   \n",
       "2            5.7              0.22         0.22           16.65      0.044   \n",
       "3            7.2              0.23         0.39           14.20      0.058   \n",
       "4            7.6              0.35         0.47           13.30      0.037   \n",
       "\n",
       "   free sulfur dioxide  total sulfur dioxide  density    pH  sulphates  \\\n",
       "0                 31.0                  93.0  0.99160  2.93       0.37   \n",
       "1                 29.0                 130.0  0.99496  3.11       0.44   \n",
       "2                 39.0                 110.0  0.99855  3.24       0.48   \n",
       "3                 49.0                 192.0  0.99790  2.98       0.48   \n",
       "4                 42.0                 116.0  0.99822  3.04       0.50   \n",
       "\n",
       "   alcohol  quality  \n",
       "0     11.3        7  \n",
       "1     10.5        7  \n",
       "2      9.0        6  \n",
       "3      9.0        7  \n",
       "4      9.2        5  "
      ]
     },
     "execution_count": 529,
     "metadata": {},
     "output_type": "execute_result"
    }
   ],
   "source": [
    "df = pd.read_csv('wine-quality/data.csv',delimiter=';')\n",
    "df.head()"
   ]
  },
  {
   "cell_type": "code",
   "execution_count": 530,
   "metadata": {},
   "outputs": [],
   "source": [
    "lrr=0.01\n",
    "itr=1000\n",
    "X = df.drop(['quality'],axis=1)\n",
    "Y = df['quality']"
   ]
  },
  {
   "cell_type": "code",
   "execution_count": 531,
   "metadata": {},
   "outputs": [],
   "source": [
    "X_train, X_test, Y_train, Y_test = train_test_split(X,Y,test_size = 0.2)\n",
    "# Y_train = df['quality']\n",
    "# Y_train\n",
    "A=X_train\n",
    "B=X_test\n",
    "C=Y_train\n",
    "D=Y_test\n",
    "def sklearn():\n",
    "    lr = LogisticRegression(solver='lbfgs',multi_class='multinomial',max_iter=itr)\n",
    "    lr.fit(A, C) \n",
    "    y_pred = lr.predict(B)\n",
    "    score = lr.score(B,D)\n",
    "    print(\"Score: \",score)\n",
    "    print((D == y_pred).mean())\n",
    "    print(confusion_matrix(D,y_pred))\n",
    "    print(classification_report(D,y_pred))\n",
    "    print(\"Accuracy using SK learn: \",accuracy_score(D, y_pred)*100)"
   ]
  },
  {
   "cell_type": "code",
   "execution_count": 532,
   "metadata": {},
   "outputs": [
    {
     "data": {
      "text/plain": [
       "array([[ 1.  ,  6.7 ,  0.34, ...,  3.  ,  0.47, 12.2 ],\n",
       "       [ 1.  ,  7.5 ,  0.15, ...,  3.24,  0.44, 10.  ],\n",
       "       [ 1.  ,  8.  ,  0.33, ...,  3.12,  0.36, 11.6 ],\n",
       "       ...,\n",
       "       [ 1.  ,  6.7 ,  0.34, ...,  3.19,  0.49,  9.3 ],\n",
       "       [ 1.  ,  6.8 ,  0.19, ...,  3.12,  0.48,  9.6 ],\n",
       "       [ 1.  ,  7.  ,  0.15, ...,  2.96,  0.39,  9.  ]])"
      ]
     },
     "execution_count": 532,
     "metadata": {},
     "output_type": "execute_result"
    }
   ],
   "source": [
    "X_train = pd.concat([X_train,Y_train],axis=1)\n",
    "ones = np.ones([X_train.shape[0],1])\n",
    "Y_train = X_train.iloc[:,11:12].values\n",
    "X_train = X_train.iloc[:,0:11]\n",
    "X_train = np.concatenate((ones,X_train),axis=1)\n",
    "X_train"
   ]
  },
  {
   "cell_type": "code",
   "execution_count": 533,
   "metadata": {},
   "outputs": [
    {
     "data": {
      "text/plain": [
       "(15, 12)"
      ]
     },
     "execution_count": 533,
     "metadata": {},
     "output_type": "execute_result"
    }
   ],
   "source": [
    "theta = np.zeros([15,12])\n",
    "theta.shape"
   ]
  },
  {
   "cell_type": "code",
   "execution_count": 534,
   "metadata": {},
   "outputs": [],
   "source": [
    "def sigmoid(z):\n",
    "    return 1 / (1 + np.exp(-z))\n",
    "def grad_des(X_train,Y_train,thh,lrr,itr): \n",
    "    for i in range(itr):\n",
    "        h = sigmoid(np.dot(X_train,thh.T))\n",
    "        thh = thh - (lrr/len(X_train)) * np.sum(X_train * (h - Y_train), axis=0)  \n",
    "    return thh"
   ]
  },
  {
   "cell_type": "code",
   "execution_count": null,
   "metadata": {},
   "outputs": [],
   "source": []
  },
  {
   "cell_type": "code",
   "execution_count": 535,
   "metadata": {},
   "outputs": [],
   "source": [
    "for i in range(0,11):\n",
    "    tt = np.zeros([1,12])\n",
    "    W = np.array(Y_train)\n",
    "    for j in range(len(W)):\n",
    "        if W[j] == i:\n",
    "            W[j] = 1\n",
    "        else:\n",
    "            W[j] = 0\n",
    "    theta[i]=grad_des(X_train,W,tt,lrr,itr)\n",
    "#     print(X_train.shape)"
   ]
  },
  {
   "cell_type": "code",
   "execution_count": 536,
   "metadata": {},
   "outputs": [],
   "source": [
    "y_pred = []\n",
    "for index,rows in X_test.iterrows():\n",
    "    rows = list(rows)\n",
    "    m=0\n",
    "    for a in range(0,11):\n",
    "        y = 0\n",
    "        for i in range(len(rows)):\n",
    "            y = y + rows[i]*theta[a][i+1]\n",
    "        y = y + theta[a][0]\n",
    "        y = sigmoid(y)\n",
    "        if y >= m:\n",
    "            label = a\n",
    "            m = y\n",
    "    y_pred.append(label)\n",
    "# y_pred"
   ]
  },
  {
   "cell_type": "code",
   "execution_count": 539,
   "metadata": {},
   "outputs": [
    {
     "name": "stdout",
     "output_type": "stream",
     "text": [
      "[[  0   0   0   7   0   0   0]\n",
      " [  0   2   4  19   0   0   0]\n",
      " [  0   4  19 222   0   0   0]\n",
      " [  0   2  12 386   0   0   0]\n",
      " [  0   0   3 168   0   0   0]\n",
      " [  0   0   0  33   0   0   0]\n",
      " [  0   0   0   1   0   0   0]]\n",
      "Accuracy:  46.14512471655329\n"
     ]
    }
   ],
   "source": [
    "# print((y_pred == Y_test).mean()*100)\n",
    "print(confusion_matrix(Y_test,y_pred))\n",
    "# print(classification_report(Y_test,y_pred))\n",
    "print(\"Accuracy: \", accuracy_score(Y_test, y_pred)*100)"
   ]
  },
  {
   "cell_type": "code",
   "execution_count": 538,
   "metadata": {},
   "outputs": [
    {
     "name": "stdout",
     "output_type": "stream",
     "text": [
      "Score:  0.518140589569161\n",
      "0.518140589569161\n",
      "[[  0   0   2   5   0   0   0]\n",
      " [  0   0  15   8   2   0   0]\n",
      " [  0   0 114 129   2   0   0]\n",
      " [  0   0  72 306  22   0   0]\n",
      " [  0   0  10 124  37   0   0]\n",
      " [  0   0   2  17  14   0   0]\n",
      " [  0   0   0   1   0   0   0]]\n",
      "              precision    recall  f1-score   support\n",
      "\n",
      "           3       0.00      0.00      0.00         7\n",
      "           4       0.00      0.00      0.00        25\n",
      "           5       0.53      0.47      0.50       245\n",
      "           6       0.52      0.77      0.62       400\n",
      "           7       0.48      0.22      0.30       171\n",
      "           8       0.00      0.00      0.00        33\n",
      "           9       0.00      0.00      0.00         1\n",
      "\n",
      "   micro avg       0.52      0.52      0.52       882\n",
      "   macro avg       0.22      0.21      0.20       882\n",
      "weighted avg       0.48      0.52      0.48       882\n",
      "\n",
      "Accuracy using SK learn:  51.8140589569161\n"
     ]
    },
    {
     "name": "stderr",
     "output_type": "stream",
     "text": [
      "/home/keshu/.local/lib/python3.6/site-packages/sklearn/linear_model/logistic.py:758: ConvergenceWarning: lbfgs failed to converge. Increase the number of iterations.\n",
      "  \"of iterations.\", ConvergenceWarning)\n",
      "/home/keshu/.local/lib/python3.6/site-packages/sklearn/metrics/classification.py:1143: UndefinedMetricWarning: Precision and F-score are ill-defined and being set to 0.0 in labels with no predicted samples.\n",
      "  'precision', 'predicted', average, warn_for)\n"
     ]
    }
   ],
   "source": [
    "sklearn()"
   ]
  },
  {
   "cell_type": "code",
   "execution_count": null,
   "metadata": {},
   "outputs": [],
   "source": []
  },
  {
   "cell_type": "code",
   "execution_count": null,
   "metadata": {},
   "outputs": [],
   "source": []
  }
 ],
 "metadata": {
  "kernelspec": {
   "display_name": "Python 3",
   "language": "python",
   "name": "python3"
  },
  "language_info": {
   "codemirror_mode": {
    "name": "ipython",
    "version": 3
   },
   "file_extension": ".py",
   "mimetype": "text/x-python",
   "name": "python",
   "nbconvert_exporter": "python",
   "pygments_lexer": "ipython3",
   "version": "3.6.7"
  }
 },
 "nbformat": 4,
 "nbformat_minor": 2
}
